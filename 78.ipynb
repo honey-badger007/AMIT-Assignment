{
 "cells": [
  {
   "cell_type": "code",
   "execution_count": 1,
   "id": "1b60a458-bb93-488a-a7dc-a60de480a26d",
   "metadata": {},
   "outputs": [
    {
     "data": {
      "text/plain": [
       "10"
      ]
     },
     "execution_count": 1,
     "metadata": {},
     "output_type": "execute_result"
    }
   ],
   "source": [
    "5+5"
   ]
  },
  {
   "cell_type": "code",
   "execution_count": 2,
   "id": "4decc8cb-5328-4e36-b990-3dbfb17414e5",
   "metadata": {},
   "outputs": [
    {
     "name": "stdout",
     "output_type": "stream",
     "text": [
      "hello hello\n"
     ]
    },
    {
     "data": {
      "text/plain": [
       "100"
      ]
     },
     "execution_count": 2,
     "metadata": {},
     "output_type": "execute_result"
    }
   ],
   "source": [
    "print('hello',end=' ')\n",
    "print('hello')\n",
    "100"
   ]
  },
  {
   "cell_type": "code",
   "execution_count": 3,
   "id": "4d34b702-0ba6-4b4f-8449-4b464347f9d5",
   "metadata": {},
   "outputs": [
    {
     "name": "stdout",
     "output_type": "stream",
     "text": [
      "amit 30\n"
     ]
    }
   ],
   "source": [
    "# print amit\n",
    "'''dsadsadsa'''\n",
    "print(\"amit\",30)"
   ]
  },
  {
   "cell_type": "code",
   "execution_count": 5,
   "id": "e147ad62-687c-4d79-9ac3-aa061bba01ac",
   "metadata": {},
   "outputs": [
    {
     "name": "stdout",
     "output_type": "stream",
     "text": [
      "machine learning\n"
     ]
    }
   ],
   "source": [
    "'''\n",
    "print (\"amit\")\n",
    "print('learning')\n",
    "print('python')\n",
    "'''\n",
    "print(\"machine learning\")\n",
    "\n",
    "#print(\"deep learning\")\n",
    "#print(\"data scince\")\n",
    "#print(\"python\")"
   ]
  },
  {
   "cell_type": "code",
   "execution_count": null,
   "id": "8ebedba1-2889-4a68-aeb9-c9223a3b65b4",
   "metadata": {},
   "outputs": [],
   "source": []
  }
 ],
 "metadata": {
  "kernelspec": {
   "display_name": "Python 3 (ipykernel)",
   "language": "python",
   "name": "python3"
  },
  "language_info": {
   "codemirror_mode": {
    "name": "ipython",
    "version": 3
   },
   "file_extension": ".py",
   "mimetype": "text/x-python",
   "name": "python",
   "nbconvert_exporter": "python",
   "pygments_lexer": "ipython3",
   "version": "3.12.4"
  }
 },
 "nbformat": 4,
 "nbformat_minor": 5
}
