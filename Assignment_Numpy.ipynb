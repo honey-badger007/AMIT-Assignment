{
 "cells": [
  {
   "cell_type": "markdown",
   "metadata": {},
   "source": [
    "### 1. Write a NumPy program to test whether none of the elements of a given array is zero."
   ]
  },
  {
   "cell_type": "code",
   "execution_count": 8,
   "metadata": {},
   "outputs": [
    {
     "name": "stdout",
     "output_type": "stream",
     "text": [
      "False\n"
     ]
    }
   ],
   "source": [
    "import numpy as np\n",
    "def test_array_zeros(arr):\n",
    "    return np.all(arr != 0)\n",
    "arr = np.array([1, 2, 0, 4, 5,])\n",
    "print(test_array_zeros(arr))"
   ]
  },
  {
   "cell_type": "markdown",
   "metadata": {},
   "source": [
    "### 2. Write a NumPy program to test whether any of the elements of a given array is non-zero."
   ]
  },
  {
   "cell_type": "code",
   "execution_count": 1,
   "metadata": {},
   "outputs": [
    {
     "name": "stdout",
     "output_type": "stream",
     "text": [
      "No. of non zero elements is: 3\n"
     ]
    }
   ],
   "source": [
    "import numpy as np\n",
    "def test_array_nonzeros(arr):\n",
    "   return np.count_nonzero(arr)\n",
    "arr = np.array([0, 2, 0, 4, 5, 0])\n",
    "print(\"No. of non zero elements is:\",test_array_nonzeros(arr))"
   ]
  },
  {
   "cell_type": "markdown",
   "metadata": {},
   "source": [
    "### 3. Write a NumPy program to create an element-wise comparison (equal, equal within a tolerance) of two given"
   ]
  },
  {
   "cell_type": "code",
   "execution_count": 19,
   "metadata": {},
   "outputs": [
    {
     "name": "stdout",
     "output_type": "stream",
     "text": [
      "[ True  True  True False False]\n",
      "[ True  True  True False False]\n"
     ]
    }
   ],
   "source": [
    "import numpy as np\n",
    "arr1 = np.array([1, 2, 3, 4, 5])\n",
    "arr2 = np.array([1.0, 2.0, 3.0,20,10])\n",
    "result = np.isclose(arr1, arr2, atol=1e-10)\n",
    "print(result)\n",
    "result = np.isclose(arr1, arr2,atol=0)\n",
    "print(result)"
   ]
  },
  {
   "cell_type": "markdown",
   "metadata": {},
   "source": [
    "### 4. Write a NumPy program to create an array of 10 zeros,10 ones, 10 fives"
   ]
  },
  {
   "cell_type": "code",
   "execution_count": 21,
   "metadata": {},
   "outputs": [
    {
     "name": "stdout",
     "output_type": "stream",
     "text": [
      "[0. 0. 0. 0. 0. 0. 0. 0. 0. 0.]\n",
      "[1. 1. 1. 1. 1. 1. 1. 1. 1. 1.]\n",
      "[5 5 5 5 5 5 5 5 5 5]\n"
     ]
    }
   ],
   "source": [
    "a = np.zeros(10)\n",
    "b = np.ones(10)\n",
    "c = np.full(10, 5)\n",
    "print(a)\n",
    "print(b)\n",
    "print(c)"
   ]
  },
  {
   "cell_type": "markdown",
   "metadata": {},
   "source": [
    "### 5. Write a NumPy program to create an array of the integers from 30 to70. "
   ]
  },
  {
   "cell_type": "code",
   "execution_count": 22,
   "metadata": {},
   "outputs": [
    {
     "name": "stdout",
     "output_type": "stream",
     "text": [
      "[30 31 32 33 34 35 36 37 38 39 40 41 42 43 44 45 46 47 48 49 50 51 52 53\n",
      " 54 55 56 57 58 59 60 61 62 63 64 65 66 67 68 69 70]\n"
     ]
    }
   ],
   "source": [
    "import numpy as np\n",
    "arr = np.arange(30, 71)\n",
    "print(arr)"
   ]
  },
  {
   "cell_type": "markdown",
   "metadata": {},
   "source": [
    "### 6. Write a NumPy program to create a 3x3 identity matrix"
   ]
  },
  {
   "cell_type": "code",
   "execution_count": 25,
   "metadata": {},
   "outputs": [
    {
     "name": "stdout",
     "output_type": "stream",
     "text": [
      "[[1. 0. 0.]\n",
      " [0. 1. 0.]\n",
      " [0. 0. 1.]]\n"
     ]
    }
   ],
   "source": [
    "import numpy as np\n",
    "arr = np.eye(3)\n",
    "print(arr)"
   ]
  },
  {
   "cell_type": "markdown",
   "metadata": {},
   "source": [
    "### 7. Write a NumPy program to generate a random number between 0 and 1"
   ]
  },
  {
   "cell_type": "code",
   "execution_count": 2,
   "metadata": {},
   "outputs": [
    {
     "name": "stdout",
     "output_type": "stream",
     "text": [
      "0.22270481764037786\n"
     ]
    }
   ],
   "source": [
    "import numpy as np\n",
    "print(np.random.rand())"
   ]
  },
  {
   "cell_type": "markdown",
   "metadata": {},
   "source": [
    "## 8. Write a NumPy program to generate an array of 15 random numbers from a standard normal distribution"
   ]
  },
  {
   "cell_type": "code",
   "execution_count": 4,
   "metadata": {},
   "outputs": [
    {
     "name": "stdout",
     "output_type": "stream",
     "text": [
      "[ 0.86733549 -0.47972228  0.48419614 -0.94882848 -0.18860707 -1.98772989\n",
      "  0.61458148  1.84245769  0.61259811 -0.40023458 -0.63733028  0.36239318\n",
      "  1.10393184  2.15229128 -0.88842721]\n"
     ]
    }
   ],
   "source": [
    "import numpy as np\n",
    "arr = np.random.normal(size=15)\n",
    "print(arr)"
   ]
  },
  {
   "cell_type": "markdown",
   "metadata": {},
   "source": [
    "### 9. Write a NumPy program to create a vector with values ranging from 15 to 55 and print all values except the first and last."
   ]
  },
  {
   "cell_type": "code",
   "execution_count": 6,
   "metadata": {},
   "outputs": [
    {
     "name": "stdout",
     "output_type": "stream",
     "text": [
      "[16 17 18 19 20 21 22 23 24 25 26 27 28 29 30 31 32 33 34 35 36 37 38 39\n",
      " 40 41 42 43 44 45 46 47 48 49 50 51 52 53 54]\n"
     ]
    }
   ],
   "source": [
    "import numpy as np\n",
    "arr = np.arange(15, 56)\n",
    "print(arr[1:-1])"
   ]
  },
  {
   "cell_type": "markdown",
   "metadata": {},
   "source": [
    "### 10. Write a NumPy program to create a vector of length 5 filled with arbitrary integers from 0 to 10"
   ]
  },
  {
   "cell_type": "code",
   "execution_count": 12,
   "metadata": {},
   "outputs": [
    {
     "name": "stdout",
     "output_type": "stream",
     "text": [
      "[ 2  1  7  4 10]\n"
     ]
    }
   ],
   "source": [
    "import numpy as np\n",
    "arr = np.random.randint(0, 11, 5)\n",
    "print(arr)"
   ]
  },
  {
   "cell_type": "markdown",
   "metadata": {},
   "source": [
    "### 11. Write a NumPy program to create a 10x10 matrix, in which the elements on the borders will be equal to 1, and inside 0."
   ]
  },
  {
   "cell_type": "code",
   "execution_count": 29,
   "metadata": {},
   "outputs": [
    {
     "name": "stdout",
     "output_type": "stream",
     "text": [
      "[[1. 1. 1. 1. 1. 1. 1. 1. 1. 1.]\n",
      " [1. 0. 0. 0. 0. 0. 0. 0. 0. 1.]\n",
      " [1. 0. 0. 0. 0. 0. 0. 0. 0. 1.]\n",
      " [1. 0. 0. 0. 0. 0. 0. 0. 0. 1.]\n",
      " [1. 0. 0. 0. 0. 0. 0. 0. 0. 1.]\n",
      " [1. 0. 0. 0. 0. 0. 0. 0. 0. 1.]\n",
      " [1. 0. 0. 0. 0. 0. 0. 0. 0. 1.]\n",
      " [1. 0. 0. 0. 0. 0. 0. 0. 0. 1.]\n",
      " [1. 0. 0. 0. 0. 0. 0. 0. 0. 1.]\n",
      " [1. 1. 1. 1. 1. 1. 1. 1. 1. 1.]]\n"
     ]
    }
   ],
   "source": [
    "import numpy as np\n",
    "matrix = np.zeros((10, 10))\n",
    "matrix[0, :] = 1\n",
    "matrix[-1, :] = 1\n",
    "for i in range(1, 9):\n",
    "    matrix[i, 0] = 1\n",
    "    matrix[i, -1] = 1\n",
    "for j in range(0, 9):\n",
    "    matrix[0, j] = 1\n",
    "    matrix[-1, j] = 1\n",
    "print(matrix)"
   ]
  },
  {
   "cell_type": "markdown",
   "metadata": {},
   "source": [
    "### 12. Write a NumPy program to create a 5x5 zero matrix with elements on the main diagonal equal to 1, 2, 3, 4, 5."
   ]
  },
  {
   "cell_type": "code",
   "execution_count": 31,
   "metadata": {},
   "outputs": [
    {
     "name": "stdout",
     "output_type": "stream",
     "text": [
      "[[1. 0. 0. 0. 0.]\n",
      " [0. 2. 0. 0. 0.]\n",
      " [0. 0. 3. 0. 0.]\n",
      " [0. 0. 0. 4. 0.]\n",
      " [0. 0. 0. 0. 5.]]\n"
     ]
    }
   ],
   "source": [
    "import numpy as np\n",
    "matrix = np.zeros((5, 5))\n",
    "np.fill_diagonal(matrix, np.arange(1, 6))\n",
    "print(matrix)\n"
   ]
  },
  {
   "cell_type": "markdown",
   "metadata": {},
   "source": [
    "### 13. Write a NumPy program to create a 4x4 matrix in which 0 and 1 are staggered, with zeros on the main diagonal."
   ]
  },
  {
   "cell_type": "code",
   "execution_count": 33,
   "metadata": {},
   "outputs": [
    {
     "name": "stdout",
     "output_type": "stream",
     "text": [
      "[[1. 0. 1. 0.]\n",
      " [0. 1. 0. 1.]\n",
      " [1. 0. 1. 0.]\n",
      " [0. 1. 0. 1.]]\n"
     ]
    }
   ],
   "source": [
    "import numpy as np\n",
    "matrix = np.zeros((4, 4))\n",
    "matrix[::2, ::2] = 1\n",
    "matrix[1::2, 1::2] = 1\n",
    "print(matrix)"
   ]
  },
  {
   "cell_type": "markdown",
   "metadata": {},
   "source": [
    "### 14. Write a NumPy program to save two given arrays into a single file in compressed format (.npz format) and load it."
   ]
  },
  {
   "cell_type": "code",
   "execution_count": 35,
   "metadata": {},
   "outputs": [
    {
     "name": "stdout",
     "output_type": "stream",
     "text": [
      "Array 1: [1 2 3 4 5]\n",
      "Array 2: [ 6  7  8  9 10]\n"
     ]
    }
   ],
   "source": [
    "import numpy as np\n",
    "arr1 = np.array([1, 2, 3, 4, 5])\n",
    "arr2 = np.array([6, 7, 8, 9, 10])\n",
    "np.savez('arrays.npz', arr1=arr1, arr2=arr2)\n",
    "loaded_arrays = np.load('arrays.npz')\n",
    "arr1_loaded = loaded_arrays['arr1']\n",
    "arr2_loaded = loaded_arrays['arr2']\n",
    "print('Array 1:', arr1_loaded)\n",
    "print('Array 2:', arr2_loaded)"
   ]
  },
  {
   "cell_type": "markdown",
   "metadata": {},
   "source": [
    "### 15. Write a NumPy program to create a one-dimensional array of forty pseudo-randomly generated values."
   ]
  },
  {
   "cell_type": "code",
   "execution_count": 37,
   "metadata": {},
   "outputs": [
    {
     "name": "stdout",
     "output_type": "stream",
     "text": [
      "[0.07751041 0.13638386 0.49291451 0.08248151 0.02697808 0.82220561\n",
      " 0.24690611 0.52762137 0.25461878 0.47430435 0.84165504 0.6840024\n",
      " 0.94208086 0.31709351 0.61926579 0.27788306 0.04724891 0.12067188\n",
      " 0.57226744 0.82893414 0.43220283 0.98223391 0.59761903 0.85110343\n",
      " 0.64868519 0.99357542 0.87348783 0.08240803 0.63849593 0.29672914\n",
      " 0.14085588 0.4442242  0.40272636 0.76746385 0.99060204 0.92568769\n",
      " 0.57665604 0.19908217 0.14066323 0.18450554]\n"
     ]
    }
   ],
   "source": [
    "import numpy as np \n",
    "arr = np.random.rand(40)\n",
    "print(arr)"
   ]
  },
  {
   "cell_type": "markdown",
   "metadata": {},
   "source": [
    "### 16. Write a NumPy program to extract all numbers from a given array which are less and greater than a specified number."
   ]
  },
  {
   "cell_type": "code",
   "execution_count": 40,
   "metadata": {},
   "outputs": [
    {
     "name": "stdout",
     "output_type": "stream",
     "text": [
      "Numbers less than 5 : [1 2 3 4]\n",
      "Numbers greater than 5 : [ 6  7  8  9 10]\n"
     ]
    }
   ],
   "source": [
    "import numpy as np\n",
    "arr = np.array([1, 2, 3, 4, 5, 6, 7, 8, 9, 10])\n",
    "num = 5\n",
    "less_than_num = arr[arr < num]\n",
    "greater_than_num = arr[arr > num]\n",
    "print(\"Numbers less than\", num, \":\", less_than_num)\n",
    "print(\"Numbers greater than\", num, \":\", greater_than_num)"
   ]
  }
 ],
 "metadata": {
  "kernelspec": {
   "display_name": "base",
   "language": "python",
   "name": "python3"
  },
  "language_info": {
   "codemirror_mode": {
    "name": "ipython",
    "version": 3
   },
   "file_extension": ".py",
   "mimetype": "text/x-python",
   "name": "python",
   "nbconvert_exporter": "python",
   "pygments_lexer": "ipython3",
   "version": "3.12.4"
  }
 },
 "nbformat": 4,
 "nbformat_minor": 2
}
