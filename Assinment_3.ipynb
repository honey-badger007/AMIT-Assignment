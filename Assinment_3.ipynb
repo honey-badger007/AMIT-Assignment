{
 "cells": [
  {
   "cell_type": "markdown",
   "id": "3d4e5916-882b-4e95-a3f0-d1c1191807b6",
   "metadata": {},
   "source": [
    "## 1. Write a Python program to add an item to a tuple."
   ]
  },
  {
   "cell_type": "code",
   "execution_count": 2,
   "id": "8b620e81-4cb5-431c-880c-9dc666b74eac",
   "metadata": {},
   "outputs": [
    {
     "name": "stdout",
     "output_type": "stream",
     "text": [
      "[1, 2, 5, 7, 8, 'ahmed', 10]\n",
      "(1, 2, 5, 7, 8, 'ahmed', 10)\n"
     ]
    }
   ],
   "source": [
    "x=(1,2,5,7,8,\"ahmed\")\n",
    "y=list(x)\n",
    "y.insert(7,10)\n",
    "print(y)\n",
    "x=tuple(y)\n",
    "print(x)"
   ]
  },
  {
   "cell_type": "markdown",
   "id": "ede99b20-d1dd-4b89-ba08-4b92df817741",
   "metadata": {},
   "source": [
    "## 2. Write a Python program to sum all the items in a list."
   ]
  },
  {
   "cell_type": "code",
   "execution_count": 4,
   "id": "4ae36318-44b4-42ac-aea4-5743f4dabcd0",
   "metadata": {},
   "outputs": [
    {
     "name": "stdout",
     "output_type": "stream",
     "text": [
      "45\n"
     ]
    }
   ],
   "source": [
    "x=[1,2,3,4,5,6,7,8,9]\n",
    "y=sum(x)\n",
    "print(y)"
   ]
  },
  {
   "cell_type": "markdown",
   "id": "65dd6d30-ce78-4bb9-bd45-32f6b9fa6a97",
   "metadata": {},
   "source": [
    "## 3. Write a Python program to multiply all the items in a list."
   ]
  },
  {
   "cell_type": "code",
   "execution_count": 6,
   "id": "398ba5fb-8d92-43a7-86ee-edd007ba19bc",
   "metadata": {},
   "outputs": [
    {
     "name": "stdout",
     "output_type": "stream",
     "text": [
      "120\n"
     ]
    }
   ],
   "source": [
    "x=[1,2,3,4,5]\n",
    "import math\n",
    "y=math.prod(x)\n",
    "print(y)"
   ]
  },
  {
   "cell_type": "markdown",
   "id": "f9af3ef9-8b71-4c50-965d-ab2ebea15ba0",
   "metadata": {},
   "source": [
    "## 4. Write a Python program to get the smallest number from a list."
   ]
  },
  {
   "cell_type": "code",
   "execution_count": 8,
   "id": "00a4fcea-f755-4658-bb8c-25fee64bc940",
   "metadata": {},
   "outputs": [
    {
     "name": "stdout",
     "output_type": "stream",
     "text": [
      "2\n"
     ]
    }
   ],
   "source": [
    "x=[10,15,2,3,4,5]\n",
    "x.sort()\n",
    "print (x[0])"
   ]
  },
  {
   "cell_type": "code",
   "execution_count": 9,
   "id": "17b54bf5-6193-49e5-925b-7b97e6140e7c",
   "metadata": {},
   "outputs": [
    {
     "name": "stdout",
     "output_type": "stream",
     "text": [
      "2\n"
     ]
    }
   ],
   "source": [
    "x=[10,15,2,3,4,5]\n",
    "min(x)\n",
    "print (min(x))"
   ]
  },
  {
   "cell_type": "markdown",
   "id": "21e19556-9873-446e-8fd9-7128501b9d9d",
   "metadata": {},
   "source": [
    "## 5. Write a Python program to get the largest number from a list."
   ]
  },
  {
   "cell_type": "code",
   "execution_count": 11,
   "id": "f7e18029-5347-4804-a8b2-61175b0bde2d",
   "metadata": {},
   "outputs": [
    {
     "name": "stdout",
     "output_type": "stream",
     "text": [
      "15\n"
     ]
    }
   ],
   "source": [
    "x=[10,15,2,3,4,5]\n",
    "x.sort()\n",
    "print (x[-1])"
   ]
  },
  {
   "cell_type": "code",
   "execution_count": 12,
   "id": "2f5f77d1-09b6-45d2-bda4-cfa9ce337aa5",
   "metadata": {},
   "outputs": [
    {
     "name": "stdout",
     "output_type": "stream",
     "text": [
      "15\n"
     ]
    }
   ],
   "source": [
    "x=[10,15,2,3,4,5]\n",
    "max(x)\n",
    "print (max(x))"
   ]
  },
  {
   "cell_type": "markdown",
   "id": "f93abebd-9ef5-45da-b8a4-e803bdc794c4",
   "metadata": {},
   "source": [
    "## 6. Write a Python program to count the number of strings from a given list of strings."
   ]
  },
  {
   "cell_type": "code",
   "execution_count": 14,
   "id": "2f45f95c-4231-4ba0-9032-e869416384c2",
   "metadata": {},
   "outputs": [
    {
     "name": "stdout",
     "output_type": "stream",
     "text": [
      "2\n"
     ]
    }
   ],
   "source": [
    "st=['ahmed','omar','ali','mohamed','ahmed','omar']\n",
    "a=st.count(\"ahmed\")\n",
    "print(a)"
   ]
  },
  {
   "cell_type": "markdown",
   "id": "c3d7e660-7456-4372-81c3-32c499e4b32e",
   "metadata": {},
   "source": [
    "## 7. Write a Python program to clone or copy a list"
   ]
  },
  {
   "cell_type": "code",
   "execution_count": 16,
   "id": "d48a891b-d600-4f91-8334-520bc59585bd",
   "metadata": {},
   "outputs": [
    {
     "name": "stdout",
     "output_type": "stream",
     "text": [
      "[10, 15, 2, 3, 4, 5]\n"
     ]
    }
   ],
   "source": [
    "x=[10,15,2,3,4,5]\n",
    "y=x.copy()\n",
    "print(y)"
   ]
  },
  {
   "cell_type": "markdown",
   "id": "4e23e2b0-e33d-446b-bd32-55b991b5ee3a",
   "metadata": {},
   "source": [
    "## 8. Write a Python program to remove item(s) from a given set."
   ]
  },
  {
   "cell_type": "code",
   "execution_count": 18,
   "id": "69d97f24-de25-4463-a7a6-2e0e6f8dc425",
   "metadata": {},
   "outputs": [
    {
     "name": "stdout",
     "output_type": "stream",
     "text": [
      "{1, 2, 'p', 5, 'ahmed'}\n"
     ]
    }
   ],
   "source": [
    "se={1,2,5,9,'p','ahmed'}\n",
    "se.remove(9)\n",
    "print(se)"
   ]
  },
  {
   "cell_type": "markdown",
   "id": "423885e1-68c8-4052-ad97-5e1e3a17dfeb",
   "metadata": {},
   "source": [
    "## 9. Write a Python program to check if a set is a subset of another set."
   ]
  },
  {
   "cell_type": "code",
   "execution_count": 20,
   "id": "12469b80-b51a-4c26-86e3-e31a16470178",
   "metadata": {},
   "outputs": [
    {
     "name": "stdout",
     "output_type": "stream",
     "text": [
      "True\n",
      "False\n"
     ]
    }
   ],
   "source": [
    "a={1,2,5,9,'p','ahmed'}\n",
    "b={2,5}\n",
    "c={1,10,8}\n",
    "print(b.issubset(a))\n",
    "print(c.issubset(a))"
   ]
  },
  {
   "cell_type": "markdown",
   "id": "4f9f976a-4ba7-45c6-93e1-528ebead11ac",
   "metadata": {},
   "source": [
    "## 10. Write a Python program to remove all elements from a given set."
   ]
  },
  {
   "cell_type": "code",
   "execution_count": 22,
   "id": "22dcab3e-cbcb-4282-8d77-e7a045f227a1",
   "metadata": {},
   "outputs": [
    {
     "name": "stdout",
     "output_type": "stream",
     "text": [
      "set()\n"
     ]
    }
   ],
   "source": [
    "a={1,2,5,9,'p','ahmed'}\n",
    "a.clear()\n",
    "print(a)"
   ]
  },
  {
   "cell_type": "markdown",
   "id": "36b12b3b-b863-4c6e-adcd-1c4dfd7084a3",
   "metadata": {},
   "source": [
    "## 11. Write a Python program to find the maximum and minimum values in a set."
   ]
  },
  {
   "cell_type": "code",
   "execution_count": 24,
   "id": "09185d35-0316-4006-affe-b1c94b99ad4c",
   "metadata": {},
   "outputs": [
    {
     "name": "stdout",
     "output_type": "stream",
     "text": [
      "100\n",
      "1\n"
     ]
    }
   ],
   "source": [
    "a={1,2,5,9,15,100}\n",
    "print (max(a))\n",
    "print (min(a))"
   ]
  },
  {
   "cell_type": "markdown",
   "id": "f956684f-39ad-4f1f-8e3c-734dc36a8142",
   "metadata": {},
   "source": [
    "## 12. Write a Python program to find the index of an item in a tuple."
   ]
  },
  {
   "cell_type": "code",
   "execution_count": 26,
   "id": "6f3ac85a-42a4-47a1-ad8b-1aaf8baf9550",
   "metadata": {},
   "outputs": [
    {
     "data": {
      "text/plain": [
       "1"
      ]
     },
     "execution_count": 26,
     "metadata": {},
     "output_type": "execute_result"
    }
   ],
   "source": [
    "tu=(15,10,45,1,2,3,9,8)\n",
    "tu.index(10)"
   ]
  },
  {
   "cell_type": "markdown",
   "id": "a6689e5a-c31f-4b22-a386-ae13fd666e6c",
   "metadata": {},
   "source": [
    "## 13. Write a Python program to convert a tuple to a dictionary."
   ]
  },
  {
   "cell_type": "code",
   "execution_count": 28,
   "id": "3e98a427-aa85-42cc-9132-7ebf65f2cbb5",
   "metadata": {},
   "outputs": [
    {
     "name": "stdout",
     "output_type": "stream",
     "text": [
      "{'s': 15, 'f': 45, 'r': 2}\n"
     ]
    }
   ],
   "source": [
    "tu=((15,\"s\"),(45,\"f\"),(2,\"r\"))\n",
    "result_dict = dict((y, x) for x, y in tu)\n",
    "print(result_dict)"
   ]
  },
  {
   "cell_type": "markdown",
   "id": "d2538996-f3b7-4b3f-87b8-3ad3e44015ea",
   "metadata": {},
   "source": [
    "## 14. Write a Python program to unzip a list of tuples into individual lists."
   ]
  },
  {
   "cell_type": "code",
   "execution_count": 30,
   "id": "061993d1-7a69-4c9c-895f-eb05ec031bea",
   "metadata": {},
   "outputs": [
    {
     "name": "stdout",
     "output_type": "stream",
     "text": [
      "[[15, 45, 2], ['s', 'f', 'r']]\n"
     ]
    }
   ],
   "source": [
    "li1=[(15,\"s\"),(45,\"f\"),(2,\"r\")]\n",
    "li2=[list(t) for t in zip(*li1)]\n",
    "print(li2)"
   ]
  },
  {
   "cell_type": "markdown",
   "id": "8cb4e271-06ae-4ad6-810b-80c0d43b4ba0",
   "metadata": {},
   "source": [
    "## 15. Write a Python program to reverse a tuple."
   ]
  },
  {
   "cell_type": "code",
   "execution_count": 32,
   "id": "fb9b2908-d5cb-4cf5-b246-4d174b8f27af",
   "metadata": {},
   "outputs": [
    {
     "name": "stdout",
     "output_type": "stream",
     "text": [
      "(8, 9, 3, 2, 1, 45, 10, 15)\n"
     ]
    }
   ],
   "source": [
    "tu=(15,10,45,1,2,3,9,8)\n",
    "li1=list(tu)\n",
    "li1.reverse()\n",
    "tu=tuple(li1)\n",
    "print(tu)"
   ]
  },
  {
   "cell_type": "markdown",
   "id": "3cf44cff-0288-46a8-adb2-7fd097a1d5fb",
   "metadata": {},
   "source": [
    "## 16. Write a Python program to convert a list of tuples into a dictionary"
   ]
  },
  {
   "cell_type": "code",
   "execution_count": 34,
   "id": "af90f06e-e3ee-4067-8147-9c732b945cc4",
   "metadata": {},
   "outputs": [
    {
     "name": "stdout",
     "output_type": "stream",
     "text": [
      "{'s': 15, 'f': 45, 'r': 2}\n"
     ]
    }
   ],
   "source": [
    "li1=[(15,\"s\"),(45,\"f\"),(2,\"r\")]\n",
    "result_dict = dict((y, x) for x, y in li1)\n",
    "print(result_dict)"
   ]
  },
  {
   "cell_type": "markdown",
   "id": "f02ba5a6-f0bf-4d6b-8bee-fbcab6c40dde",
   "metadata": {},
   "source": [
    "## 17. Write a Python program to replace the last value of tuples in a list.\n",
    "### Sample list: [(10, 20, 40), (40, 50, 60), (70, 80, 90)] \n",
    "### Expected Output: [(10, 20, 100), (40, 50, 100), (70, 80, 100)]"
   ]
  },
  {
   "cell_type": "code",
   "execution_count": 36,
   "id": "7fc45052-b963-47a7-9591-0b1f27c5468e",
   "metadata": {},
   "outputs": [
    {
     "name": "stdout",
     "output_type": "stream",
     "text": [
      "[(10, 20, 100), (40, 50, 100), (70, 80, 100)]\n"
     ]
    }
   ],
   "source": [
    "Sample_list=[(10, 20, 40), (40, 50, 60), (70, 80, 90)]\n",
    "print([t[:-1] + (100,) for t in Sample_list]) "
   ]
  },
  {
   "cell_type": "markdown",
   "id": "8bedc958-12d8-44c4-a767-1f318477188a",
   "metadata": {},
   "source": [
    "## 18. Write a Python program to sort a tuple by its float element."
   ]
  },
  {
   "cell_type": "code",
   "execution_count": 38,
   "id": "e83a8a1f-f27d-4bad-a070-6b96204b72f2",
   "metadata": {},
   "outputs": [
    {
     "name": "stdout",
     "output_type": "stream",
     "text": [
      "[1.1, 2.02, 3.36, 8.01, 9.0, 10.89, 15.56, 45]\n",
      "(1.1, 2.02, 3.36, 8.01, 9.0, 10.89, 15.56, 45)\n"
     ]
    }
   ],
   "source": [
    "tu=(15.56,10.89,45,1.1,2.02,3.36,9.0,8.01)\n",
    "li1=list(tu)\n",
    "li1.sort(key = float)\n",
    "print(li1)\n",
    "tu=tuple(li1)\n",
    "print(tu)\n"
   ]
  },
  {
   "cell_type": "code",
   "execution_count": 39,
   "id": "970e2cb6-f077-4051-9b50-8e40ec49d037",
   "metadata": {},
   "outputs": [
    {
     "name": "stdout",
     "output_type": "stream",
     "text": [
      "(1.1, 2.02, 3.36, 8.01, 9.0, 10.89, 15.56, 45)\n"
     ]
    }
   ],
   "source": [
    "tu=(15.56,10.89,45,1.1,2.02,3.36,9.0,8.01)\n",
    "Output= sorted(tu, key = lambda x:float(x))\n",
    "print(tuple(Output))"
   ]
  },
  {
   "cell_type": "markdown",
   "id": "b4b017c9-0d27-4384-8cd1-37e9ef00953e",
   "metadata": {},
   "source": [
    "# Thank you\n",
    "# Ahmed Wahba"
   ]
  },
  {
   "cell_type": "code",
   "execution_count": null,
   "id": "4023b910-929a-4da9-b839-84ebf59abcbe",
   "metadata": {},
   "outputs": [],
   "source": []
  }
 ],
 "metadata": {
  "kernelspec": {
   "display_name": "Python 3 (ipykernel)",
   "language": "python",
   "name": "python3"
  },
  "language_info": {
   "codemirror_mode": {
    "name": "ipython",
    "version": 3
   },
   "file_extension": ".py",
   "mimetype": "text/x-python",
   "name": "python",
   "nbconvert_exporter": "python",
   "pygments_lexer": "ipython3",
   "version": "3.12.4"
  }
 },
 "nbformat": 4,
 "nbformat_minor": 5
}
