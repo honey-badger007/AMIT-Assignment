{
  "cells": [
    {
      "cell_type": "markdown",
      "metadata": {
        "id": "D7vv7luF6AI9"
      },
      "source": [
        "# Explanation of data"
      ]
    },
    {
      "cell_type": "markdown",
      "metadata": {
        "id": "KNHUt5m45s9k"
      },
      "source": [
        "## 1-total_bill:\n",
        "\n",
        "Description: The total amount of the bill (in dollars) for the meal, including the cost of food and drinks.\n",
        "Data Type: Float\n",
        "Example: 16.99\n",
        "## 2-tip:\n",
        "\n",
        "Description: The amount of the tip (in dollars) given by the customer to the server.\n",
        "Data Type: Float\n",
        "Example: 1.01\n",
        "## 3-sex:\n",
        "\n",
        "Description: The gender of the person who paid for the meal.\n",
        "Data Type: Categorical (string)\n",
        "Possible Values: 'Male', 'Female'\n",
        "Example: 'Female'\n",
        "## 4-smoker:\n",
        "\n",
        "Description: Indicates whether there were smokers in the party.\n",
        "Data Type: Categorical (string)\n",
        "Possible Values: 'Yes', 'No'\n",
        "Example: 'No'\n",
        "## 5-day:\n",
        "\n",
        "Description: The day of the week when the meal was served.\n",
        "Data Type: Categorical (string)\n",
        "Possible Values: 'Thur' (Thursday), 'Fri' (Friday), 'Sat' (Saturday), 'Sun' (Sunday)\n",
        "Example: 'Sun'\n",
        "## 6-time:\n",
        "\n",
        "Description: The time of day when the meal was served.\n",
        "Data Type: Categorical (string)\n",
        "Possible Values: 'Lunch', 'Dinner'\n",
        "Example: 'Dinner'\n",
        "## 7-size:\n",
        "\n",
        "Description: The number of people in the party.\n",
        "Data Type: Integer\n",
        "Example: 2"
      ]
    },
    {
      "cell_type": "markdown",
      "metadata": {
        "id": "X_cxp0rIzH6Y"
      },
      "source": [
        "## Load the dataset"
      ]
    },
    {
      "cell_type": "code",
      "execution_count": 50,
      "metadata": {},
      "outputs": [],
      "source": [
        "import numpy as np\n",
        "import pandas as pd\n",
        "\n",
        "# Load the dataset\n",
        "data1 = pd.read_csv(\"tips.csv\")\n",
        "df=data1.copy()\n"
      ]
    },
    {
      "cell_type": "markdown",
      "metadata": {
        "id": "4pSqsPPKzMI-"
      },
      "source": [
        "## Display the first few rows"
      ]
    },
    {
      "cell_type": "code",
      "execution_count": 51,
      "metadata": {},
      "outputs": [
        {
          "data": {
            "text/html": [
              "<div>\n",
              "<style scoped>\n",
              "    .dataframe tbody tr th:only-of-type {\n",
              "        vertical-align: middle;\n",
              "    }\n",
              "\n",
              "    .dataframe tbody tr th {\n",
              "        vertical-align: top;\n",
              "    }\n",
              "\n",
              "    .dataframe thead th {\n",
              "        text-align: right;\n",
              "    }\n",
              "</style>\n",
              "<table border=\"1\" class=\"dataframe\">\n",
              "  <thead>\n",
              "    <tr style=\"text-align: right;\">\n",
              "      <th></th>\n",
              "      <th>total_bill</th>\n",
              "      <th>tip</th>\n",
              "      <th>sex</th>\n",
              "      <th>smoker</th>\n",
              "      <th>day</th>\n",
              "      <th>time</th>\n",
              "      <th>size</th>\n",
              "    </tr>\n",
              "  </thead>\n",
              "  <tbody>\n",
              "    <tr>\n",
              "      <th>0</th>\n",
              "      <td>16.99</td>\n",
              "      <td>1.01</td>\n",
              "      <td>Female</td>\n",
              "      <td>No</td>\n",
              "      <td>Sun</td>\n",
              "      <td>Dinner</td>\n",
              "      <td>2</td>\n",
              "    </tr>\n",
              "    <tr>\n",
              "      <th>1</th>\n",
              "      <td>10.34</td>\n",
              "      <td>1.66</td>\n",
              "      <td>Male</td>\n",
              "      <td>No</td>\n",
              "      <td>Sun</td>\n",
              "      <td>Dinner</td>\n",
              "      <td>3</td>\n",
              "    </tr>\n",
              "    <tr>\n",
              "      <th>2</th>\n",
              "      <td>21.01</td>\n",
              "      <td>3.50</td>\n",
              "      <td>Male</td>\n",
              "      <td>No</td>\n",
              "      <td>Sun</td>\n",
              "      <td>Dinner</td>\n",
              "      <td>3</td>\n",
              "    </tr>\n",
              "    <tr>\n",
              "      <th>3</th>\n",
              "      <td>23.68</td>\n",
              "      <td>3.31</td>\n",
              "      <td>Male</td>\n",
              "      <td>No</td>\n",
              "      <td>Sun</td>\n",
              "      <td>Dinner</td>\n",
              "      <td>2</td>\n",
              "    </tr>\n",
              "    <tr>\n",
              "      <th>4</th>\n",
              "      <td>24.59</td>\n",
              "      <td>3.61</td>\n",
              "      <td>Female</td>\n",
              "      <td>No</td>\n",
              "      <td>Sun</td>\n",
              "      <td>Dinner</td>\n",
              "      <td>4</td>\n",
              "    </tr>\n",
              "  </tbody>\n",
              "</table>\n",
              "</div>"
            ],
            "text/plain": [
              "   total_bill   tip     sex smoker  day    time  size\n",
              "0       16.99  1.01  Female     No  Sun  Dinner     2\n",
              "1       10.34  1.66    Male     No  Sun  Dinner     3\n",
              "2       21.01  3.50    Male     No  Sun  Dinner     3\n",
              "3       23.68  3.31    Male     No  Sun  Dinner     2\n",
              "4       24.59  3.61  Female     No  Sun  Dinner     4"
            ]
          },
          "execution_count": 51,
          "metadata": {},
          "output_type": "execute_result"
        }
      ],
      "source": [
        "df.head()"
      ]
    },
    {
      "cell_type": "markdown",
      "metadata": {
        "id": "QnWpnuZpzWnw"
      },
      "source": [
        "## Question 1: What is the average total bill amount?"
      ]
    },
    {
      "cell_type": "code",
      "execution_count": 52,
      "metadata": {},
      "outputs": [
        {
          "data": {
            "text/plain": [
              "19.78594262295082"
            ]
          },
          "execution_count": 52,
          "metadata": {},
          "output_type": "execute_result"
        }
      ],
      "source": [
        "average_total_bill = df['total_bill'].mean()\n",
        "average_total_bill"
      ]
    },
    {
      "cell_type": "markdown",
      "metadata": {
        "id": "JHCnMe-kzk20"
      },
      "source": [
        "## Question 2: How many records are in the dataset?\n"
      ]
    },
    {
      "cell_type": "code",
      "execution_count": 53,
      "metadata": {},
      "outputs": [
        {
          "data": {
            "text/plain": [
              "244"
            ]
          },
          "execution_count": 53,
          "metadata": {},
          "output_type": "execute_result"
        }
      ],
      "source": [
        "num_records = df.shape[0]\n",
        "num_records"
      ]
    },
    {
      "cell_type": "markdown",
      "metadata": {
        "id": "SPo07k6SzoI2"
      },
      "source": [
        "## Question 3: What is the total amount of tips given by male customers?\n"
      ]
    },
    {
      "cell_type": "code",
      "execution_count": 54,
      "metadata": {},
      "outputs": [
        {
          "data": {
            "text/plain": [
              "485.07"
            ]
          },
          "execution_count": 54,
          "metadata": {},
          "output_type": "execute_result"
        }
      ],
      "source": [
        "male_tips = df[df['sex'] == 'Male']['tip'].sum()\n",
        "male_tips"
      ]
    },
    {
      "cell_type": "markdown",
      "metadata": {
        "id": "1VacIheWzxVx"
      },
      "source": [
        "## Question 4: What is the maximum tip given?\n"
      ]
    },
    {
      "cell_type": "code",
      "execution_count": 55,
      "metadata": {},
      "outputs": [
        {
          "data": {
            "text/plain": [
              "10.0"
            ]
          },
          "execution_count": 55,
          "metadata": {},
          "output_type": "execute_result"
        }
      ],
      "source": [
        "max_tip = df['tip'].max()\n",
        "max_tip"
      ]
    },
    {
      "cell_type": "markdown",
      "metadata": {
        "id": "BpjN-WYaz1Zb"
      },
      "source": [
        "## Question 5: What are the unique days on which the tips were recorded?\n"
      ]
    },
    {
      "cell_type": "code",
      "execution_count": 56,
      "metadata": {},
      "outputs": [
        {
          "data": {
            "text/plain": [
              "array(['Sun', 'Sat', 'Thur', 'Fri'], dtype=object)"
            ]
          },
          "execution_count": 56,
          "metadata": {},
          "output_type": "execute_result"
        }
      ],
      "source": [
        "unique_days = df['day'].unique()\n",
        "unique_days"
      ]
    },
    {
      "cell_type": "markdown",
      "metadata": {
        "id": "G5o62RuK0oSi"
      },
      "source": [
        "## Question 6: What is the average tip amount given by female customers?\n"
      ]
    },
    {
      "cell_type": "code",
      "execution_count": 57,
      "metadata": {},
      "outputs": [
        {
          "data": {
            "text/plain": [
              "2.8334482758620685"
            ]
          },
          "execution_count": 57,
          "metadata": {},
          "output_type": "execute_result"
        }
      ],
      "source": [
        "female_average_tip = df[df['sex'] == 'Female']['tip'].mean()\n",
        "female_average_tip"
      ]
    },
    {
      "cell_type": "markdown",
      "metadata": {
        "id": "rcr7bhgL0tEf"
      },
      "source": [
        "## Question 7: How many customers are non-smokers?\n"
      ]
    },
    {
      "cell_type": "code",
      "execution_count": 58,
      "metadata": {},
      "outputs": [
        {
          "name": "stdout",
          "output_type": "stream",
          "text": [
            "no of non smokers: 151\n",
            "percentage of non smokers: 61.89 %\n"
          ]
        }
      ],
      "source": [
        "total_customers = df.shape[0]\n",
        "non_smokers = df[df['smoker'] == 'No'].shape[0]\n",
        "print(\"no of non smokers:\", non_smokers)\n",
        "percentage_non_smokers = (non_smokers / total_customers) * 100\n",
        "print(\"percentage of non smokers:\", percentage_non_smokers.__round__(2), \"%\")"
      ]
    },
    {
      "cell_type": "markdown",
      "metadata": {
        "id": "TX7HPM790yz3"
      },
      "source": [
        "## Question 8: What is the average total bill for dinners?\n"
      ]
    },
    {
      "cell_type": "code",
      "execution_count": 59,
      "metadata": {},
      "outputs": [
        {
          "data": {
            "text/plain": [
              "20.79715909090909"
            ]
          },
          "execution_count": 59,
          "metadata": {},
          "output_type": "execute_result"
        }
      ],
      "source": [
        "average_dinner_bill = df[(df['time'] == 'Dinner')]['total_bill'].mean()\n",
        "average_dinner_bill"
      ]
    },
    {
      "cell_type": "markdown",
      "metadata": {
        "id": "PUKHp45z04H8"
      },
      "source": [
        "## Question 9: What is the smallest size of a group recorded?\n"
      ]
    },
    {
      "cell_type": "code",
      "execution_count": 60,
      "metadata": {},
      "outputs": [
        {
          "data": {
            "text/plain": [
              "1"
            ]
          },
          "execution_count": 60,
          "metadata": {},
          "output_type": "execute_result"
        }
      ],
      "source": [
        "smallest_group_size = df['size'].min()\n",
        "smallest_group_size"
      ]
    },
    {
      "cell_type": "markdown",
      "metadata": {
        "id": "b5CzsW2-1H5D"
      },
      "source": [
        "## Question 10: What is the standard deviation of the total bill amounts?\n"
      ]
    },
    {
      "cell_type": "code",
      "execution_count": 61,
      "metadata": {},
      "outputs": [
        {
          "data": {
            "text/plain": [
              "8.902411954856856"
            ]
          },
          "execution_count": 61,
          "metadata": {},
          "output_type": "execute_result"
        }
      ],
      "source": [
        "std_dev_total_bill = df['total_bill'].std()\n",
        "std_dev_total_bill"
      ]
    },
    {
      "cell_type": "markdown",
      "metadata": {
        "id": "YSNjWBeD1lc-"
      },
      "source": [
        "## Question 11: How many male smokers are there compared to female smokers?\n"
      ]
    },
    {
      "cell_type": "code",
      "execution_count": 62,
      "metadata": {},
      "outputs": [
        {
          "name": "stdout",
          "output_type": "stream",
          "text": [
            "27\n"
          ]
        }
      ],
      "source": [
        "male_smokers = df[(df['sex'] == 'Male') & (df['smoker'] == 'Yes')].shape[0]\n",
        "female_smokers = df[(df['sex'] == 'Female') & (df['smoker'] == 'Yes')].shape[0]\n",
        "difference_in_smokers_no = male_smokers - female_smokers\n",
        "print(difference_in_smokers_no)"
      ]
    },
    {
      "cell_type": "markdown",
      "metadata": {
        "id": "dpN7kz5_2gra"
      },
      "source": [
        "## Question 12: How much more do male customers tip on average than female customers?"
      ]
    },
    {
      "cell_type": "code",
      "execution_count": 63,
      "metadata": {},
      "outputs": [
        {
          "data": {
            "text/plain": [
              "0.25616955853283585"
            ]
          },
          "execution_count": 63,
          "metadata": {},
          "output_type": "execute_result"
        }
      ],
      "source": [
        "average_male_tip = df[df['sex'] == 'Male']['tip'].mean()\n",
        "average_female_tip = df[df['sex'] == 'Female']['tip'].mean()\n",
        "difference_in_average_tips = average_male_tip - average_female_tip\n",
        "difference_in_average_tips"
      ]
    },
    {
      "cell_type": "markdown",
      "metadata": {
        "id": "b7mTBmr_2ruR"
      },
      "source": [
        "## Question 13: What is the median tip amount given by customers on Thursdays?"
      ]
    },
    {
      "cell_type": "code",
      "execution_count": 64,
      "metadata": {},
      "outputs": [
        {
          "data": {
            "text/plain": [
              "2.3049999999999997"
            ]
          },
          "execution_count": 64,
          "metadata": {},
          "output_type": "execute_result"
        }
      ],
      "source": [
        "thursday_median_tip = df[(df['day'] == 'Thur')]['tip'].median()\n",
        "thursday_median_tip"
      ]
    },
    {
      "cell_type": "markdown",
      "metadata": {
        "id": "QHElT5hT20Oy"
      },
      "source": [
        "## Question 14: What is the total tip amount given by customers on Friday?\n"
      ]
    },
    {
      "cell_type": "code",
      "execution_count": 65,
      "metadata": {},
      "outputs": [
        {
          "data": {
            "text/plain": [
              "51.959999999999994"
            ]
          },
          "execution_count": 65,
          "metadata": {},
          "output_type": "execute_result"
        }
      ],
      "source": [
        "friday_total_tip = df[(df['day'] == 'Fri')]['tip'].sum()\n",
        "friday_total_tip"
      ]
    },
    {
      "cell_type": "markdown",
      "metadata": {
        "id": "TrGCWY4M3BXA"
      },
      "source": [
        "## Question 15: What is the average tip amount for non-smokers during dinner time?"
      ]
    },
    {
      "cell_type": "code",
      "execution_count": 66,
      "metadata": {},
      "outputs": [
        {
          "data": {
            "text/plain": [
              "3.1268867924528303"
            ]
          },
          "execution_count": 66,
          "metadata": {},
          "output_type": "execute_result"
        }
      ],
      "source": [
        "non_smoker_dinner_average_tip = df[(df['smoker'] == 'No') & (df['time'] == 'Dinner')]['tip'].mean()\n",
        "non_smoker_dinner_average_tip"
      ]
    },
    {
      "cell_type": "markdown",
      "metadata": {
        "id": "GX4IpGLw3apS"
      },
      "source": [
        "## Question 16: How much does the total bill vary between smokers and non-smokers?"
      ]
    },
    {
      "cell_type": "code",
      "execution_count": 67,
      "metadata": {},
      "outputs": [
        {
          "name": "stdout",
          "output_type": "stream",
          "text": [
            "The difference in total bill between smokers and non-smokers is : -967.0899999999992\n"
          ]
        }
      ],
      "source": [
        "smoker_total_bill = df[df['smoker'] == 'Yes']['total_bill'].sum()\n",
        "non_smoker_total_bill = df[df['smoker'] == 'No']['total_bill'].sum()\n",
        "difference_in_total_bill = smoker_total_bill - non_smoker_total_bill\n",
        "print(f\"The difference in total bill between smokers and non-smokers is : {difference_in_total_bill}\")"
      ]
    },
    {
      "cell_type": "markdown",
      "metadata": {
        "id": "sk1RdKdA3gjW"
      },
      "source": [
        "## Question 17: What is the most common day for customers to visit the restaurant?"
      ]
    },
    {
      "cell_type": "code",
      "execution_count": 68,
      "metadata": {},
      "outputs": [
        {
          "name": "stdout",
          "output_type": "stream",
          "text": [
            "The most common day for customers to visit the restaurant is: Sat\n"
          ]
        }
      ],
      "source": [
        "most_common_day = df['day'].mode()[0]\n",
        "print(f\"The most common day for customers to visit the restaurant is: {most_common_day}\")\n"
      ]
    },
    {
      "cell_type": "markdown",
      "metadata": {
        "id": "JZPzrSv13s5l"
      },
      "source": [
        "## Question 18: What is the range of tip amounts for female customers?\n"
      ]
    },
    {
      "cell_type": "code",
      "execution_count": 69,
      "metadata": {},
      "outputs": [
        {
          "name": "stdout",
          "output_type": "stream",
          "text": [
            "The range of tip amounts for female customers is: 5.5\n"
          ]
        }
      ],
      "source": [
        "female_min_tip = df[(df['sex'] == 'Female')]['tip'].min()\n",
        "female_max_tip = df[(df['sex'] == 'Female')]['tip'].max()\n",
        "female_tip_range = female_max_tip - female_min_tip\n",
        "print(f\"The range of tip amounts for female customers is: {female_tip_range}\")"
      ]
    },
    {
      "cell_type": "markdown",
      "metadata": {
        "id": "9Ph119P83yt9"
      },
      "source": [
        "## Question 19: Calculate the total bill for parties of 5 or more people (size).\n"
      ]
    },
    {
      "cell_type": "code",
      "execution_count": 70,
      "metadata": {},
      "outputs": [
        {
          "name": "stdout",
          "output_type": "stream",
          "text": [
            "The total bill for parties of 5 or more people is: 289.65999999999997\n"
          ]
        }
      ],
      "source": [
        "party_of_five_or_more = df[df['size'] >= 5]['total_bill'].sum()\n",
        "print(f\"The total bill for parties of 5 or more people is: {party_of_five_or_more}\")"
      ]
    },
    {
      "cell_type": "markdown",
      "metadata": {
        "id": "yzo5Sqdk39Aw"
      },
      "source": [
        "## Question 20: What is the highest total bill recorded during lunch?\n"
      ]
    },
    {
      "cell_type": "code",
      "execution_count": 71,
      "metadata": {},
      "outputs": [
        {
          "name": "stdout",
          "output_type": "stream",
          "text": [
            "The highest total bill recorded during lunch is: 43.11\n"
          ]
        }
      ],
      "source": [
        "highest_lunch_bill = df[(df['time'] == 'Lunch')]['total_bill'].max()\n",
        "print(f\"The highest total bill recorded during lunch is: {highest_lunch_bill}\")"
      ]
    },
    {
      "cell_type": "markdown",
      "metadata": {
        "id": "4MeSEXbB4HG8"
      },
      "source": [
        "## Question 21: How many customers visited the restaurant on weekends (Saturday and Sunday) and ordered a total bill of more than $20?"
      ]
    },
    {
      "cell_type": "code",
      "execution_count": 72,
      "metadata": {},
      "outputs": [
        {
          "name": "stdout",
          "output_type": "stream",
          "text": [
            "The customers visited the restaurant on weekends are: 75\n"
          ]
        }
      ],
      "source": [
        "weekend_customers = df[(df['day'].isin(['Sat', 'Sun'])) & (df['total_bill'] > 20)].shape[0]\n",
        "print(f\"The customers visited the restaurant on weekends are: {weekend_customers}\")"
      ]
    },
    {
      "cell_type": "markdown",
      "metadata": {
        "id": "WIgnNtRO4K6L"
      },
      "source": [
        "\n",
        "\n",
        "```\n",
        "# Hint isin ()\n",
        "\n",
        "```\n",
        "\n"
      ]
    },
    {
      "cell_type": "code",
      "execution_count": null,
      "metadata": {
        "id": "gQDSaviK4J3y"
      },
      "outputs": [],
      "source": []
    }
  ],
  "metadata": {
    "colab": {
      "private_outputs": true,
      "provenance": []
    },
    "kernelspec": {
      "display_name": "base",
      "language": "python",
      "name": "python3"
    },
    "language_info": {
      "codemirror_mode": {
        "name": "ipython",
        "version": 3
      },
      "file_extension": ".py",
      "mimetype": "text/x-python",
      "name": "python",
      "nbconvert_exporter": "python",
      "pygments_lexer": "ipython3",
      "version": "3.12.4"
    }
  },
  "nbformat": 4,
  "nbformat_minor": 0
}
