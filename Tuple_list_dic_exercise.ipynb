{
 "cells": [
  {
   "cell_type": "markdown",
   "id": "64f4aab9-e99e-4c3b-8caa-7bb03bb72df3",
   "metadata": {},
   "source": [
    "# *** Tuples exercises ***"
   ]
  },
  {
   "cell_type": "markdown",
   "id": "25c0c4c9-bd24-472c-8e41-7e3a2a58b70d",
   "metadata": {},
   "source": [
    "## 1. Write a Python program to create a tuple of numbers and print one item."
   ]
  },
  {
   "cell_type": "code",
   "execution_count": 10,
   "id": "b2aca515-d5f4-4a9c-b6f7-79fc1751b3c0",
   "metadata": {},
   "outputs": [
    {
     "name": "stdout",
     "output_type": "stream",
     "text": [
      "2\n"
     ]
    }
   ],
   "source": [
    "tu1=(1,2,3,4,5)\n",
    "print (tu1[1])"
   ]
  },
  {
   "cell_type": "markdown",
   "id": "c2901498-2c31-48a9-974a-c24adbe27a8d",
   "metadata": {},
   "source": [
    "## 2. Write a Python program to unpack a tuple into several variables."
   ]
  },
  {
   "cell_type": "code",
   "execution_count": 18,
   "id": "edb04fbe-57a4-4157-96e4-1b11674199df",
   "metadata": {},
   "outputs": [
    {
     "name": "stdout",
     "output_type": "stream",
     "text": [
      "1 2 3 4 5.5 ahmed True\n",
      "(1, 2, 3, 4, 5.5, 'ahmed')\n"
     ]
    }
   ],
   "source": [
    "tu1=(1,2,3,4,5.5,\"ahmed\",True)\n",
    "print(tu1[0],tu1[1],tu1[2],tu1[3],tu1[4],tu1[5],tu1[6])\n",
    "print(tu1[0:-1])\n"
   ]
  },
  {
   "cell_type": "markdown",
   "id": "26f26ba5-1729-4a37-97b9-c4129d19d667",
   "metadata": {},
   "source": [
    "## 3. Write a Python program to add an item to a tuple at index number 2."
   ]
  },
  {
   "cell_type": "code",
   "execution_count": 48,
   "id": "2f081b6f-d892-4a08-b1dd-813baeba0ac2",
   "metadata": {},
   "outputs": [
    {
     "name": "stdout",
     "output_type": "stream",
     "text": [
      "[1, 2, 3, 4, 5.5, 'ahmed', True]\n",
      "[1, 2, 10, 3, 4, 5.5, 'ahmed', True]\n",
      "(1, 2, 10, 3, 4, 5.5, 'ahmed', True)\n"
     ]
    }
   ],
   "source": [
    "# tuple is immutable i cannot add or remove unless i changed it into list\n",
    "tu1=(1,2,3,4,5.5,\"ahmed\",True)\n",
    "lis1=list(tu1)\n",
    "print (lis1)\n",
    "lis1.insert(2,10)\n",
    "print (lis1)\n",
    "tu1=tuple(lis1)\n",
    "print(tu1)"
   ]
  },
  {
   "cell_type": "markdown",
   "id": "c8567af7-fdc4-444a-9941-b731df25b83c",
   "metadata": {},
   "source": [
    "## 4. Write a Python program to convert a tuple to a string."
   ]
  },
  {
   "cell_type": "code",
   "execution_count": 66,
   "id": "4d37cd28-c0ad-49b1-a540-9e903cbf92b9",
   "metadata": {},
   "outputs": [
    {
     "name": "stdout",
     "output_type": "stream",
     "text": [
      "12345.5ahmedTrue\n"
     ]
    }
   ],
   "source": [
    "tu1=(1,2,3,4,5.5,\"ahmed\",True)\n",
    "str1=''.join(map(str, tu1))\n",
    "print(str1)"
   ]
  },
  {
   "cell_type": "markdown",
   "id": "7d7bb5cd-3f99-4714-8c27-e4d37e1768fd",
   "metadata": {},
   "source": [
    "## 5. ('e', 'x', 'e', 'r', 'c', 'i', 's', 'e', 's') => 'exercises'"
   ]
  },
  {
   "cell_type": "code",
   "execution_count": 71,
   "id": "43aeafbf-7e01-45b3-80cd-e33d890711d5",
   "metadata": {},
   "outputs": [
    {
     "name": "stdout",
     "output_type": "stream",
     "text": [
      "exercises\n"
     ]
    }
   ],
   "source": [
    "tu1=('e', 'x', 'e', 'r', 'c', 'i', 's', 'e', 's')\n",
    "str1=''.join(map(str, tu1))\n",
    "print(str1)"
   ]
  },
  {
   "cell_type": "markdown",
   "id": "1c63ff76-ff19-4755-928e-69ec3b185bb5",
   "metadata": {},
   "source": [
    "## 6. Write a Python program to remove an item from a tuple."
   ]
  },
  {
   "cell_type": "code",
   "execution_count": 74,
   "id": "0ab18d88-a737-4f83-beac-ed36b5f1738c",
   "metadata": {},
   "outputs": [
    {
     "name": "stdout",
     "output_type": "stream",
     "text": [
      "[1, 2, 3, 4, 5.5, 'ahmed', True]\n",
      "[1, 3, 4, 5.5, 'ahmed', True]\n",
      "(1, 3, 4, 5.5, 'ahmed', True)\n"
     ]
    }
   ],
   "source": [
    "tu1=(1,2,3,4,5.5,\"ahmed\",True)\n",
    "lis1=list(tu1)\n",
    "print (lis1)\n",
    "lis1.remove(2)\n",
    "print (lis1)\n",
    "tu1=tuple(lis1)\n",
    "print(tu1)"
   ]
  },
  {
   "cell_type": "markdown",
   "id": "7455695f-6985-43ee-8327-b62e8eef3265",
   "metadata": {},
   "source": [
    "### 7. Write a Python program to reverse a tuple."
   ]
  },
  {
   "cell_type": "code",
   "execution_count": 77,
   "id": "eed80b6c-7c2f-4929-96c6-4357f92cf995",
   "metadata": {},
   "outputs": [
    {
     "name": "stdout",
     "output_type": "stream",
     "text": [
      "[1, 2, 3, 4, 5.5, 'ahmed', True]\n",
      "[True, 'ahmed', 5.5, 4, 3, 2, 1]\n",
      "(True, 'ahmed', 5.5, 4, 3, 2, 1)\n"
     ]
    }
   ],
   "source": [
    "tu1=(1,2,3,4,5.5,\"ahmed\",True)\n",
    "lis1=list(tu1)\n",
    "print (lis1)\n",
    "lis1.reverse()\n",
    "print (lis1)\n",
    "tu1=tuple(lis1)\n",
    "print(tu1)"
   ]
  },
  {
   "cell_type": "markdown",
   "id": "8c031df5-1ae4-47b1-9c89-71519daa8927",
   "metadata": {},
   "source": [
    "## 8. Write a Python program to replace the last value of tuples in a list."
   ]
  },
  {
   "cell_type": "code",
   "execution_count": 82,
   "id": "153d4bbe-30ce-4c7b-b058-d96a067952bd",
   "metadata": {},
   "outputs": [
    {
     "name": "stdout",
     "output_type": "stream",
     "text": [
      "[1, 2, 3, 4, 5.5, 'ahmed', True]\n",
      "[1, 2, 3, 4, 5.5, 'ahmed', [10, 20, 30]]\n",
      "(1, 2, 3, 4, 5.5, 'ahmed', [10, 20, 30])\n"
     ]
    }
   ],
   "source": [
    "tu1=(1,2,3,4,5.5,\"ahmed\",True)\n",
    "lis1=list(tu1)\n",
    "print (lis1)\n",
    "lis1[-1]=[10,20,30]\n",
    "print (lis1)\n",
    "tu1=tuple(lis1)\n",
    "print(tu1)"
   ]
  },
  {
   "cell_type": "markdown",
   "id": "fa19ab6e-a672-4e02-a054-c50ba10aa1e2",
   "metadata": {},
   "source": [
    "#                                          *** List Exercises ***"
   ]
  },
  {
   "cell_type": "markdown",
   "id": "51dd3528-e719-48c0-8aa8-680efc0ae838",
   "metadata": {},
   "source": [
    "## 1. Create a list of your favorite fruits. Add another fruit to the end of the list using append()."
   ]
  },
  {
   "cell_type": "code",
   "execution_count": 92,
   "id": "77fff5c2-3917-4702-9c82-0e9bc76e5ae8",
   "metadata": {},
   "outputs": [
    {
     "name": "stdout",
     "output_type": "stream",
     "text": [
      "['Banana', 'apple', 'mango', 'Berry']\n"
     ]
    }
   ],
   "source": [
    "fru=['Banana','apple','mango']\n",
    "fru.append('Berry')\n",
    "print(fru)"
   ]
  },
  {
   "cell_type": "markdown",
   "id": "d98c59cf-2a06-4f95-8fd4-fd7bdcfc5827",
   "metadata": {},
   "source": [
    "## 2. Create two lists of numbers, then extend the first list by adding all elements from the second list using extend()"
   ]
  },
  {
   "cell_type": "code",
   "execution_count": 97,
   "id": "c9969b7d-5860-4d3c-9a26-569fe1ceadb2",
   "metadata": {},
   "outputs": [
    {
     "name": "stdout",
     "output_type": "stream",
     "text": [
      "[1, 2, 3, 4, 5, 6, 7, 8, 9, 10, 11]\n"
     ]
    }
   ],
   "source": [
    "lis1=[1,2,3,4,5,6]\n",
    "lis2=[7,8,9,10,11]\n",
    "lis1.extend(lis2)\n",
    "print(lis1)"
   ]
  },
  {
   "cell_type": "markdown",
   "id": "ab07dbe5-eb8a-4c56-b798-f446d6cf1a30",
   "metadata": {},
   "source": [
    "## 3. insert(index, item) Start with a list of colors. Insert a new color at the second position (index 1)."
   ]
  },
  {
   "cell_type": "code",
   "execution_count": 100,
   "id": "a243a20f-ba11-4aba-a952-ce4f06e0ef06",
   "metadata": {},
   "outputs": [
    {
     "name": "stdout",
     "output_type": "stream",
     "text": [
      "['red', 'yellow', 'green', 'blue']\n"
     ]
    }
   ],
   "source": [
    "lis1=[\"red\",\"green\",\"blue\"]\n",
    "lis1.insert(1,\"yellow\")\n",
    "print(lis1)"
   ]
  },
  {
   "cell_type": "markdown",
   "id": "4562a6ce-eaea-4b9d-a732-1953012b1b58",
   "metadata": {},
   "source": [
    "## 4. Create a list of city names with some duplicates. Use remove() to delete the first occurrence of a city"
   ]
  },
  {
   "cell_type": "code",
   "execution_count": 103,
   "id": "3314cee0-85ed-4fdb-b99e-4ad0736c4b70",
   "metadata": {},
   "outputs": [
    {
     "name": "stdout",
     "output_type": "stream",
     "text": [
      "['dahab', 'alex', 'cairo', 'aswan']\n"
     ]
    }
   ],
   "source": [
    "city=[\"cairo\",\"dahab\",\"alex\",\"cairo\",\"aswan\"]\n",
    "city.remove(\"cairo\")\n",
    "print(city)"
   ]
  },
  {
   "cell_type": "markdown",
   "id": "c4bc8640-eaf2-4afc-932e-61ac262dd58d",
   "metadata": {},
   "source": [
    "## 5. pop(index) Make a list of your favorite animals. Use pop() to remove the animal at the third position and store it in a variable"
   ]
  },
  {
   "cell_type": "code",
   "execution_count": 108,
   "id": "f1ec5830-5630-47ab-9389-b909179247a6",
   "metadata": {},
   "outputs": [
    {
     "name": "stdout",
     "output_type": "stream",
     "text": [
      "['hawk', 'bat', 'eagle']\n",
      "honey badger\n"
     ]
    }
   ],
   "source": [
    "anim=[\"hawk\",\"bat\",\"honey badger\",\"eagle\"]\n",
    "fav=anim.pop(2)\n",
    "print(anim)\n",
    "print(fav)"
   ]
  },
  {
   "cell_type": "markdown",
   "id": "92860e74-71d0-404e-b1cc-c14868ef8cee",
   "metadata": {},
   "source": [
    "## 6. clear() Create a list of random numbers, then clear it using clear()."
   ]
  },
  {
   "cell_type": "code",
   "execution_count": 113,
   "id": "f1409817-eef3-401c-82f2-0cb44d06353e",
   "metadata": {},
   "outputs": [
    {
     "name": "stdout",
     "output_type": "stream",
     "text": [
      "[]\n"
     ]
    }
   ],
   "source": [
    "ran1=[5,8,6,3,4,7,9,2,4,2,5]\n",
    "ran1.clear()\n",
    "print(ran1)"
   ]
  },
  {
   "cell_type": "markdown",
   "id": "4452e910-cd24-46fc-8869-c7ab3d6454f8",
   "metadata": {},
   "source": [
    "# *** Dictionary Function Exercises ***"
   ]
  },
  {
   "cell_type": "markdown",
   "id": "875646ce-3b5f-4614-97d4-d13b22036504",
   "metadata": {},
   "source": [
    "## 1. Create a dictionary of country capitals. Use get() to retrieve the capital of 'France', with a default value if it’s not in the dictionary."
   ]
  },
  {
   "cell_type": "code",
   "execution_count": 133,
   "id": "4a1b4375-2707-4852-b3b4-bf03e478e127",
   "metadata": {},
   "outputs": [
    {
     "name": "stdout",
     "output_type": "stream",
     "text": [
      "{'egypt': 'cairo', 'france': 'paris', 'england': 'london'}\n",
      "paris\n",
      "None\n"
     ]
    }
   ],
   "source": [
    "dic1={'egypt':'cairo','france':'paris','england':'london'}\n",
    "print(dic1)\n",
    "print(dic1.get('france'))\n",
    "print(dic1.get('Canada'))"
   ]
  },
  {
   "cell_type": "markdown",
   "id": "d0b741d9-19e8-49d1-b3bb-813c13eea414",
   "metadata": {},
   "source": [
    "## 2. Make a dictionary of programming languages and their popular frameworks. Use keys() to get a list of all languages."
   ]
  },
  {
   "cell_type": "code",
   "execution_count": 150,
   "id": "f56d42c6-e8c3-4445-bc82-cc7a0ce7991a",
   "metadata": {},
   "outputs": [
    {
     "name": "stdout",
     "output_type": "stream",
     "text": [
      "dict_keys(['c', 'python', 'java'])\n"
     ]
    }
   ],
   "source": [
    "lan1={'c':'embedded','python':'AI','java':'Web'}\n",
    "print(lan1.keys())\n"
   ]
  },
  {
   "cell_type": "markdown",
   "id": "78624a58-9cfb-4edf-910f-86fac01e4a02",
   "metadata": {},
   "source": [
    "## 3. Using the previous dictionary, get a list of all frameworks using values()."
   ]
  },
  {
   "cell_type": "code",
   "execution_count": 153,
   "id": "fc32035d-b43a-4464-aaaa-874655cbc804",
   "metadata": {},
   "outputs": [
    {
     "name": "stdout",
     "output_type": "stream",
     "text": [
      "dict_values(['embedded', 'AI', 'Web'])\n"
     ]
    }
   ],
   "source": [
    "lan1={'c':'embedded','python':'AI','java':'Web'}\n",
    "print(lan1.values())\n"
   ]
  },
  {
   "cell_type": "markdown",
   "id": "65234179-30d1-4105-b1e8-d961c248f81d",
   "metadata": {},
   "source": [
    "## 4. Use items() to get a list of all key-value pairs in a dictionary representing items and their prices."
   ]
  },
  {
   "cell_type": "code",
   "execution_count": 156,
   "id": "3b1de61d-2525-4745-a16a-11af58ab2923",
   "metadata": {},
   "outputs": [
    {
     "name": "stdout",
     "output_type": "stream",
     "text": [
      "dict_items([('c', 'embedded'), ('python', 'AI'), ('java', 'Web')])\n"
     ]
    }
   ],
   "source": [
    "lan1={'c':'embedded','python':'AI','java':'Web'}\n",
    "print(lan1.items())"
   ]
  },
  {
   "cell_type": "markdown",
   "id": "8d86f06d-5c0a-438a-9e99-91768b3c2e9c",
   "metadata": {},
   "source": [
    "## 5. Create a dictionary with some initial values, and then use update() to add more items."
   ]
  },
  {
   "cell_type": "code",
   "execution_count": 175,
   "id": "9cda6763-173f-4af8-b5cd-c6bfb125f554",
   "metadata": {},
   "outputs": [
    {
     "name": "stdout",
     "output_type": "stream",
     "text": [
      "{'egypt': 'cairo', 'france': 'mosco', 'england': 'london'}\n",
      "None\n",
      "{'egypt': 'cairo', 'france': 'paris', 'england': 'london'}\n"
     ]
    }
   ],
   "source": [
    "dic1={'egypt':'cairo','france':'mosco','england':'london'}\n",
    "print(dic1)\n",
    "print(dic1.update({'france':'paris'}))\n",
    "print(dic1)"
   ]
  },
  {
   "cell_type": "markdown",
   "id": "8e6b2d2e-f1f8-4a3b-a2d9-3566d2df0391",
   "metadata": {},
   "source": [
    "## 6. Remove an item from a dictionary of students by using pop(), then store the popped value in a variable."
   ]
  },
  {
   "cell_type": "code",
   "execution_count": 184,
   "id": "90d144c2-a81c-4773-a411-38434cc901e1",
   "metadata": {},
   "outputs": [
    {
     "name": "stdout",
     "output_type": "stream",
     "text": [
      "22\n"
     ]
    }
   ],
   "source": [
    "dic1={'ali':'22','ahmed':'35','mohamed':'30'}\n",
    "ali_age=dic1.pop('ali')\n",
    "print(ali_age)"
   ]
  },
  {
   "cell_type": "markdown",
   "id": "72eaff51-f9a6-468b-b903-b99838655a69",
   "metadata": {},
   "source": [
    "## 7. Create a dictionary and use clear() to remove all items."
   ]
  },
  {
   "cell_type": "code",
   "execution_count": 189,
   "id": "2ea61bbe-619d-479f-b3b5-3f4c685290c3",
   "metadata": {},
   "outputs": [
    {
     "name": "stdout",
     "output_type": "stream",
     "text": [
      "{}\n"
     ]
    }
   ],
   "source": [
    "dic1={'ali':'22','ahmed':'35','mohamed':'30'}\n",
    "dic1.clear()\n",
    "print(dic1)"
   ]
  },
  {
   "cell_type": "markdown",
   "id": "a408d919-b265-43f1-9cee-af60e4ccce65",
   "metadata": {},
   "source": [
    "# Thank you\n",
    "# Ahmed Wahba"
   ]
  },
  {
   "cell_type": "code",
   "execution_count": null,
   "id": "205e3f31-e670-4a2f-8860-376430f0bb38",
   "metadata": {},
   "outputs": [],
   "source": []
  }
 ],
 "metadata": {
  "kernelspec": {
   "display_name": "Python 3 (ipykernel)",
   "language": "python",
   "name": "python3"
  },
  "language_info": {
   "codemirror_mode": {
    "name": "ipython",
    "version": 3
   },
   "file_extension": ".py",
   "mimetype": "text/x-python",
   "name": "python",
   "nbconvert_exporter": "python",
   "pygments_lexer": "ipython3",
   "version": "3.12.4"
  }
 },
 "nbformat": 4,
 "nbformat_minor": 5
}
