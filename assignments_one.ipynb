{
 "cells": [
  {
   "cell_type": "markdown",
   "metadata": {
    "id": "WNEWD9hoA2Lr"
   },
   "source": [
    "<img src=\"https://i.redd.it/6brfmxf7b8ga1.png\" alt=\"Italian Trulli\">\n"
   ]
  },
  {
   "cell_type": "markdown",
   "metadata": {
    "id": "ev3RXIw1Jas5"
   },
   "source": [
    "### Exercise on data types"
   ]
  },
  {
   "cell_type": "markdown",
   "metadata": {
    "id": "xSe8nXGyJs_j"
   },
   "source": [
    "## <font color='red'>What data type would that be?</font>"
   ]
  },
  {
   "cell_type": "code",
   "execution_count": 4,
   "metadata": {
    "id": "j_-RJr75JlQr"
   },
   "outputs": [
    {
     "name": "stdout",
     "output_type": "stream",
     "text": [
      "<class 'int'>\n"
     ]
    }
   ],
   "source": [
    " x = 5\n",
    "print(type(x))"
   ]
  },
  {
   "cell_type": "code",
   "execution_count": 5,
   "metadata": {
    "id": "9vglOoDPJ5Ou"
   },
   "outputs": [
    {
     "name": "stdout",
     "output_type": "stream",
     "text": [
      "<class 'str'>\n"
     ]
    }
   ],
   "source": [
    " x = \"Hello World\"\n",
    "print(type(x))\n"
   ]
  },
  {
   "cell_type": "code",
   "execution_count": 6,
   "metadata": {
    "id": "luhdBZJkKDMT"
   },
   "outputs": [
    {
     "name": "stdout",
     "output_type": "stream",
     "text": [
      "<class 'float'>\n"
     ]
    }
   ],
   "source": [
    " x = 20.5\n",
    " print(type(x))"
   ]
  },
  {
   "cell_type": "code",
   "execution_count": 7,
   "metadata": {
    "id": "N8OO1mGhKC9u"
   },
   "outputs": [
    {
     "name": "stdout",
     "output_type": "stream",
     "text": [
      "<class 'list'>\n"
     ]
    }
   ],
   "source": [
    " x = [\"apple\", \"banana\", \"cherry\"]\n",
    " print(type(x))"
   ]
  },
  {
   "cell_type": "code",
   "execution_count": 8,
   "metadata": {
    "id": "cvV5m5_FKC2Y"
   },
   "outputs": [
    {
     "name": "stdout",
     "output_type": "stream",
     "text": [
      "<class 'tuple'>\n"
     ]
    }
   ],
   "source": [
    "x = (\"apple\", \"banana\", \"cherry\")\n",
    "print(type(x))"
   ]
  },
  {
   "cell_type": "code",
   "execution_count": 9,
   "metadata": {
    "id": "v6tA1ZLGKSej"
   },
   "outputs": [
    {
     "name": "stdout",
     "output_type": "stream",
     "text": [
      "<class 'dict'>\n"
     ]
    }
   ],
   "source": [
    " x = {\"name\" : \"John\", \"age\" : 36}\n",
    " print(type(x))"
   ]
  },
  {
   "cell_type": "code",
   "execution_count": 10,
   "metadata": {
    "id": "sWMa3--SKbOz"
   },
   "outputs": [
    {
     "name": "stdout",
     "output_type": "stream",
     "text": [
      "<class 'bool'>\n"
     ]
    }
   ],
   "source": [
    " x = True\n",
    " print(type(x))"
   ]
  },
  {
   "cell_type": "markdown",
   "metadata": {
    "id": "cV1O8CWnOD_A"
   },
   "source": [
    "## Exercise on Numbers"
   ]
  },
  {
   "cell_type": "markdown",
   "metadata": {
    "id": "66MX7NUrMOj9"
   },
   "source": [
    "#### Insert the correct syntax to convert x into a floating point number.\n",
    "\n"
   ]
  },
  {
   "cell_type": "code",
   "execution_count": 13,
   "metadata": {
    "id": "mbA3Hg9WKz4S"
   },
   "outputs": [
    {
     "name": "stdout",
     "output_type": "stream",
     "text": [
      "5.0\n"
     ]
    }
   ],
   "source": [
    " x = 5\n",
    " x =float(x)\n",
    " print(x)"
   ]
  },
  {
   "cell_type": "markdown",
   "metadata": {
    "id": "PfSGwBekMbfe"
   },
   "source": [
    "### Insert the correct syntax to convert x into a integer.\n",
    "\n"
   ]
  },
  {
   "cell_type": "code",
   "execution_count": 15,
   "metadata": {
    "id": "4u7ID11XMZ1z"
   },
   "outputs": [
    {
     "name": "stdout",
     "output_type": "stream",
     "text": [
      "5\n"
     ]
    }
   ],
   "source": [
    "x = 5.5\n",
    "x =int(x)\n",
    "print(x)"
   ]
  },
  {
   "cell_type": "markdown",
   "metadata": {
    "id": "QEHJkfIyOI3l"
   },
   "source": [
    "## Exercise on string"
   ]
  },
  {
   "cell_type": "markdown",
   "metadata": {
    "id": "vxDMzNuZM23J"
   },
   "source": [
    "### Use the `len()` function to print the length of the string.\n",
    "\n"
   ]
  },
  {
   "cell_type": "code",
   "execution_count": 18,
   "metadata": {
    "id": "LnECWV7kMwtZ"
   },
   "outputs": [
    {
     "name": "stdout",
     "output_type": "stream",
     "text": [
      "11\n"
     ]
    }
   ],
   "source": [
    " x = \"Hello World\"\n",
    " print(len(x))"
   ]
  },
  {
   "cell_type": "markdown",
   "metadata": {
    "id": "B3G8CsbwNBzE"
   },
   "source": [
    "### Get the first character of the string txt.\n",
    "\n"
   ]
  },
  {
   "cell_type": "code",
   "execution_count": 20,
   "metadata": {
    "id": "i82C_E7IM_N_"
   },
   "outputs": [
    {
     "name": "stdout",
     "output_type": "stream",
     "text": [
      "H\n"
     ]
    }
   ],
   "source": [
    " txt = \"Hello World\"\n",
    " x = txt[0]\n",
    " print(x)"
   ]
  },
  {
   "cell_type": "markdown",
   "metadata": {
    "id": "eujFCvXmNKL5"
   },
   "source": [
    "### Get the characters from index 2 to index 4 (llo).\n",
    "\n"
   ]
  },
  {
   "cell_type": "code",
   "execution_count": 22,
   "metadata": {
    "id": "Spath1coNHS1"
   },
   "outputs": [
    {
     "name": "stdout",
     "output_type": "stream",
     "text": [
      "llo\n"
     ]
    }
   ],
   "source": [
    " txt = \"Hello World\"\n",
    " x=txt[2:5]\n",
    " print(x)"
   ]
  },
  {
   "cell_type": "markdown",
   "metadata": {
    "id": "Rwv-8T_-NmeZ"
   },
   "source": [
    "##### Return the string without any whitespace at the beginning or the end.\n",
    "##### hint ` txt.strip()`\n"
   ]
  },
  {
   "cell_type": "code",
   "execution_count": 24,
   "metadata": {
    "id": "pg7InD_MNgBU"
   },
   "outputs": [
    {
     "name": "stdout",
     "output_type": "stream",
     "text": [
      "Hello World\n"
     ]
    }
   ],
   "source": [
    "txt= \" Hello World \"\n",
    "x=txt[1:-1]\n",
    "print(x)"
   ]
  },
  {
   "cell_type": "markdown",
   "metadata": {
    "id": "gpoiVkmQOSc2"
   },
   "source": [
    "### Convert the value of `txt` to upper case.\n",
    "\n"
   ]
  },
  {
   "cell_type": "code",
   "execution_count": 26,
   "metadata": {
    "id": "30sq8_UBOPpH"
   },
   "outputs": [
    {
     "name": "stdout",
     "output_type": "stream",
     "text": [
      "HELLO WORLD\n"
     ]
    }
   ],
   "source": [
    "txt = \"Hello World\"\n",
    "txt = txt.upper()\n",
    "print(txt)"
   ]
  },
  {
   "cell_type": "markdown",
   "metadata": {
    "id": "-UpA2zFdOedr"
   },
   "source": [
    "### Convert the value of `txt` to lower case.\n",
    "\n"
   ]
  },
  {
   "cell_type": "code",
   "execution_count": 28,
   "metadata": {
    "id": "eIYJ6Jp2OclU"
   },
   "outputs": [
    {
     "name": "stdout",
     "output_type": "stream",
     "text": [
      "hello world\n"
     ]
    }
   ],
   "source": [
    "txt = \"Hello World\"\n",
    "txt = txt.lower()\n",
    "print(txt)"
   ]
  },
  {
   "cell_type": "markdown",
   "metadata": {
    "id": "WGC7GEv4Op57"
   },
   "source": [
    "#### Replace the character` H` with a `J`"
   ]
  },
  {
   "cell_type": "code",
   "execution_count": 30,
   "metadata": {
    "id": "asaMSta8OuXu"
   },
   "outputs": [
    {
     "name": "stdout",
     "output_type": "stream",
     "text": [
      "Jello World\n"
     ]
    }
   ],
   "source": [
    "txt = \"Hello World\"\n",
    "txt = txt.replace(\"H\",\"J\")\n",
    "print(txt)"
   ]
  },
  {
   "cell_type": "markdown",
   "metadata": {
    "id": "fx_3gDLmO9c5"
   },
   "source": [
    "#### Insert the correct syntax to add a placeholder for the age parameter.\n",
    "\n"
   ]
  },
  {
   "cell_type": "code",
   "execution_count": 32,
   "metadata": {
    "id": "pbF00OzXO_pd"
   },
   "outputs": [
    {
     "name": "stdout",
     "output_type": "stream",
     "text": [
      "My name is John, and I am 36\n"
     ]
    }
   ],
   "source": [
    "age = 36\n",
    "txt = f\"My name is John, and I am {age}\"\n",
    "print(txt)"
   ]
  },
  {
   "cell_type": "markdown",
   "metadata": {
    "id": "aMfwLHLFQJt5"
   },
   "source": [
    "### Exercise on Booleans"
   ]
  },
  {
   "cell_type": "markdown",
   "metadata": {
    "id": "5LwqGd-4X6fz"
   },
   "source": [
    "The statement below would print a Boolean value, which one?\n",
    "\n"
   ]
  },
  {
   "cell_type": "code",
   "execution_count": 35,
   "metadata": {
    "id": "KE6bHyeFXwy_"
   },
   "outputs": [
    {
     "name": "stdout",
     "output_type": "stream",
     "text": [
      "True\n"
     ]
    }
   ],
   "source": [
    "print(10 > 9)\n"
   ]
  },
  {
   "cell_type": "markdown",
   "metadata": {
    "id": "5qq9bEvzX8d4"
   },
   "source": [
    "The statement below would print a Boolean value, which one?\n",
    "\n"
   ]
  },
  {
   "cell_type": "code",
   "execution_count": 37,
   "metadata": {
    "id": "36MAoCaZX2k9"
   },
   "outputs": [
    {
     "name": "stdout",
     "output_type": "stream",
     "text": [
      "False\n"
     ]
    }
   ],
   "source": [
    "print(10 == 9)\n"
   ]
  },
  {
   "cell_type": "markdown",
   "metadata": {
    "id": "I9flckHvYFLD"
   },
   "source": [
    "The statement below would print a Boolean value, which one?\n",
    "\n"
   ]
  },
  {
   "cell_type": "code",
   "execution_count": 39,
   "metadata": {
    "id": "vRTYkmrrYDcl"
   },
   "outputs": [
    {
     "name": "stdout",
     "output_type": "stream",
     "text": [
      "False\n"
     ]
    }
   ],
   "source": [
    "print(10 < 9)\n",
    "\n"
   ]
  },
  {
   "cell_type": "markdown",
   "metadata": {
    "id": "JRDSFOOWA4zY"
   },
   "source": [
    "### <font color='gold'>Exercise-1</font>"
   ]
  },
  {
   "cell_type": "markdown",
   "metadata": {
    "id": "Dx9awHoPBT5a"
   },
   "source": [
    "#### Write a Python program to print the following string in a specific format"
   ]
  },
  {
   "cell_type": "code",
   "execution_count": 42,
   "metadata": {
    "id": "gfBPq-8u_zDb"
   },
   "outputs": [],
   "source": [
    "# Twinkle, twinkle, little star,\n",
    "# \tHow I wonder what you are!\n",
    "# \t\tUp above the world so high,\n",
    "# \t\tLike a diamond in the sky.\n",
    "# Twinkle, twinkle, little star,\n",
    "# \tHow I wonder what you are!"
   ]
  },
  {
   "cell_type": "code",
   "execution_count": 43,
   "metadata": {},
   "outputs": [
    {
     "name": "stdout",
     "output_type": "stream",
     "text": [
      "Twinkle, twinkle, little star,\n",
      "  How I wonder what you are!,\n",
      "\tUp above the world so high,\n",
      "\tLike a diamond in the sky.\n",
      "Twinkle, twinkle, little star,\n",
      "  How I wonder what you are!\n"
     ]
    }
   ],
   "source": [
    "txt=\"Twinkle, twinkle, little star,\\n  How I wonder what you are!,\\n\\tUp above the world so high,\\n\\tLike a diamond in the sky.\\nTwinkle, twinkle, little star,\\n  How I wonder what you are!\"\n",
    "print(txt)\n"
   ]
  },
  {
   "cell_type": "markdown",
   "metadata": {
    "id": "G-u5KbN6B4YA"
   },
   "source": [
    "### <font color='gold'>Exercise-2</font>"
   ]
  },
  {
   "cell_type": "markdown",
   "metadata": {
    "id": "1bEAep2SCDB2"
   },
   "source": [
    "#### Write a Python program that print the user's first and last name and prints them in reverse order with a space between them."
   ]
  },
  {
   "cell_type": "code",
   "execution_count": 46,
   "metadata": {},
   "outputs": [
    {
     "name": "stdout",
     "output_type": "stream",
     "text": [
      "Ahmed Wahba\n",
      "Wahba Ahmed\n"
     ]
    }
   ],
   "source": [
    "user_name=\"Ahmed Wahba\"\n",
    "print(user_name)\n",
    "x=user_name.split()\n",
    "first_name=x[0]\n",
    "last_name=x[1]\n",
    "reverse=last_name,first_name\n",
    "result=' '.join(reverse)\n",
    "print(result)\n"
   ]
  },
  {
   "cell_type": "markdown",
   "metadata": {
    "id": "VIq-DlzYCjcp"
   },
   "source": [
    "### <font color='gold'>Exercise-3</font>"
   ]
  },
  {
   "cell_type": "markdown",
   "metadata": {
    "id": "W2i_oZiJCg4W"
   },
   "source": [
    "#### Write a Python program that calculates the area of a circle and radius = 1.1"
   ]
  },
  {
   "cell_type": "code",
   "execution_count": 49,
   "metadata": {},
   "outputs": [
    {
     "name": "stdout",
     "output_type": "stream",
     "text": [
      "Area of circle =  3.8028571428571434\n"
     ]
    }
   ],
   "source": [
    "r=1.1\n",
    "pi=22/7\n",
    "Area=pi*r**2\n",
    "print(\"Area of circle = \", Area)"
   ]
  },
  {
   "cell_type": "markdown",
   "metadata": {
    "id": "3k4J4MTrDTTP"
   },
   "source": [
    "### <font color='gold'>Exercise-4</font>"
   ]
  },
  {
   "cell_type": "markdown",
   "metadata": {
    "id": "bODhD33ADPPZ"
   },
   "source": [
    "#### Write a Python program that accepts a filename from the user and prints the extension of the file."
   ]
  },
  {
   "cell_type": "markdown",
   "metadata": {
    "id": "IjgH1FN-DYQQ"
   },
   "source": [
    "Sample Output:\n",
    "Input the Filename: abc.java                                                                                  \n",
    "The  extension of the file is : 'java'"
   ]
  },
  {
   "cell_type": "code",
   "execution_count": 53,
   "metadata": {},
   "outputs": [
    {
     "name": "stdout",
     "output_type": "stream",
     "text": [
      "Input the Filename:\n"
     ]
    },
    {
     "name": "stdin",
     "output_type": "stream",
     "text": [
      " abc.java\n"
     ]
    },
    {
     "name": "stdout",
     "output_type": "stream",
     "text": [
      "The extension of the file is : java\n"
     ]
    }
   ],
   "source": [
    "print(\"Input the Filename:\")\n",
    "file_name=input()\n",
    "name=file_name.split(\".\")\n",
    "file_extension=name[1]\n",
    "print(\"The extension of the file is :\",file_extension)"
   ]
  },
  {
   "cell_type": "markdown",
   "metadata": {
    "id": "hBSeDAHcEGPC"
   },
   "source": [
    "### <font color='gold'>Exercise-5</font>"
   ]
  },
  {
   "cell_type": "markdown",
   "metadata": {
    "id": "gnuQ4Hx2D722"
   },
   "source": [
    "#### Covert from string to list and tuple value =\"Amit\""
   ]
  },
  {
   "cell_type": "code",
   "execution_count": 56,
   "metadata": {},
   "outputs": [
    {
     "name": "stdout",
     "output_type": "stream",
     "text": [
      "('A', 'm', 'i', 't')\n",
      "['A', 'm', 'i', 't']\n"
     ]
    }
   ],
   "source": [
    "txt=\"Amit\"\n",
    "tuple_txt=tuple(txt)\n",
    "print(tuple_txt)\n",
    "list_txt=list(txt)\n",
    "print(list_txt)"
   ]
  },
  {
   "cell_type": "markdown",
   "metadata": {
    "id": "OQbk5DiyEosj"
   },
   "source": [
    " ## After that"
   ]
  },
  {
   "cell_type": "markdown",
   "metadata": {
    "id": "40fcwVkKEzUl"
   },
   "source": [
    "### Relace the index 3 in the list"
   ]
  },
  {
   "cell_type": "code",
   "execution_count": 59,
   "metadata": {},
   "outputs": [
    {
     "name": "stdout",
     "output_type": "stream",
     "text": [
      "Amiy\n"
     ]
    }
   ],
   "source": [
    "print(txt.replace(\"t\",\"y\"))"
   ]
  },
  {
   "cell_type": "markdown",
   "metadata": {
    "id": "Ka4ECE3nFBzU"
   },
   "source": [
    " ### Convert the list to string and print the list"
   ]
  },
  {
   "cell_type": "code",
   "execution_count": 61,
   "metadata": {},
   "outputs": [
    {
     "name": "stdout",
     "output_type": "stream",
     "text": [
      "Amit\n"
     ]
    }
   ],
   "source": [
    "string_txt =''.join(list_txt)\n",
    "print(string_txt)"
   ]
  },
  {
   "cell_type": "markdown",
   "metadata": {
    "id": "lpeuOl7cFmn4"
   },
   "source": [
    "### <font color='gold'>Exercise-6</font>"
   ]
  },
  {
   "cell_type": "markdown",
   "metadata": {
    "id": "RuREUX33FqQZ"
   },
   "source": [
    "#### Write a Python program to display the first and last colors from the following list.\n",
    "\n"
   ]
  },
  {
   "cell_type": "markdown",
   "metadata": {
    "id": "53ptUyHGFt9I"
   },
   "source": [
    "#### color_list = [\"Red\",\"Green\",\"White\" ,\"Black\"]\n",
    "\n"
   ]
  },
  {
   "cell_type": "markdown",
   "metadata": {
    "id": "Jl5tkntZGH4P"
   },
   "source": [
    "<img src=\"https://www.w3resource.com/w3r_images/python-basic-image-exercise-8.png\" alt=\"Italian Trulli\">\n"
   ]
  },
  {
   "cell_type": "code",
   "execution_count": 66,
   "metadata": {},
   "outputs": [
    {
     "name": "stdout",
     "output_type": "stream",
     "text": [
      "('Red', 'Black')\n"
     ]
    }
   ],
   "source": [
    "color_list = [\"Red\",\"Green\",\"White\" ,\"Black\"]\n",
    "display=color_list[0],color_list[3]\n",
    "print(display)"
   ]
  },
  {
   "cell_type": "markdown",
   "metadata": {
    "id": "N7XOS7s1GlYW"
   },
   "source": [
    "## <font color='gold'>Exercise-7</font>"
   ]
  },
  {
   "cell_type": "markdown",
   "metadata": {
    "id": "atL1CkPLGhLS"
   },
   "source": [
    "#### Write a Python program to print the following 'here document'.\n",
    "\n"
   ]
  },
  {
   "cell_type": "code",
   "execution_count": 69,
   "metadata": {
    "id": "YcD6QUiSGgq0"
   },
   "outputs": [],
   "source": [
    "#Sample Output:\n",
    "# a string that you \"don't\" have to escape\n",
    "# This\n",
    "# is a  ....... multi-line\n",
    "# heredoc string --------> example"
   ]
  },
  {
   "cell_type": "code",
   "execution_count": 105,
   "metadata": {},
   "outputs": [
    {
     "name": "stdout",
     "output_type": "stream",
     "text": [
      "Sample Output:\n",
      " a string that you \"don't\" have to escape\n",
      " This\n",
      " is a\t\tmulti-line\n",
      " heredoc string \t\t> example\n"
     ]
    }
   ],
   "source": [
    "print(\"Sample Output:\\n a string that you \\\"don't\\\" have to escape\\n This\\n is a\\t\\tmulti-line\\n heredoc string \\t\\t> example\")"
   ]
  },
  {
   "cell_type": "markdown",
   "metadata": {
    "id": "fUUhCO3Saeuy"
   },
   "source": [
    "## <font color='gold'>Exercise- 8</font>"
   ]
  },
  {
   "cell_type": "markdown",
   "metadata": {
    "id": "D_736VyMZcpE"
   },
   "source": [
    "###### I need to  check if  link `https://www.google.com/` strart with https or not and if the ` aimt4536@gmail.com` end with .com"
   ]
  },
  {
   "cell_type": "code",
   "execution_count": 107,
   "metadata": {},
   "outputs": [
    {
     "name": "stdout",
     "output_type": "stream",
     "text": [
      "True\n"
     ]
    }
   ],
   "source": [
    "link=\"https://www.google.com/\"\n",
    "print(link.startswith(\"https\"))"
   ]
  },
  {
   "cell_type": "code",
   "execution_count": 111,
   "metadata": {},
   "outputs": [
    {
     "name": "stdout",
     "output_type": "stream",
     "text": [
      "True\n"
     ]
    }
   ],
   "source": [
    "email=\"aimt4536@gmail.com\"\n",
    "print(email.endswith(\".com\"))"
   ]
  },
  {
   "cell_type": "markdown",
   "metadata": {
    "id": "Mpx-aFeYbnqW"
   },
   "source": [
    "# Thanks ❤"
   ]
  },
  {
   "cell_type": "markdown",
   "metadata": {
    "id": "dO7ga00LbWSq"
   },
   "source": [
    "<img src=\"https://pbs.twimg.com/media/ELwC6EgXYAE8AtN.jpg\" alt=\"Italian Trulli\">\n"
   ]
  },
  {
   "cell_type": "markdown",
   "metadata": {
    "id": "hnMq3s6hbmCo"
   },
   "source": [
    "# Thank YOU \n",
    "# 'Ahmed Wahba' "
   ]
  },
  {
   "cell_type": "code",
   "execution_count": null,
   "metadata": {},
   "outputs": [],
   "source": []
  }
 ],
 "metadata": {
  "colab": {
   "private_outputs": true,
   "provenance": []
  },
  "kernelspec": {
   "display_name": "Python 3 (ipykernel)",
   "language": "python",
   "name": "python3"
  },
  "language_info": {
   "codemirror_mode": {
    "name": "ipython",
    "version": 3
   },
   "file_extension": ".py",
   "mimetype": "text/x-python",
   "name": "python",
   "nbconvert_exporter": "python",
   "pygments_lexer": "ipython3",
   "version": "3.12.4"
  }
 },
 "nbformat": 4,
 "nbformat_minor": 4
}
